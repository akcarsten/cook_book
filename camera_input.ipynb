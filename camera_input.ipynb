{
 "cells": [
  {
   "cell_type": "code",
   "execution_count": null,
   "metadata": {},
   "outputs": [],
   "source": []
  },
  {
   "cell_type": "code",
   "execution_count": 1,
   "metadata": {},
   "outputs": [],
   "source": [
    "import cv2\n",
    "import numpy as np"
   ]
  },
  {
   "cell_type": "code",
   "execution_count": 2,
   "metadata": {},
   "outputs": [],
   "source": [
    "# Turn camera on\n",
    "cap = cv2.VideoCapture(0)"
   ]
  },
  {
   "cell_type": "code",
   "execution_count": 3,
   "metadata": {},
   "outputs": [],
   "source": [
    "while(1):\n",
    "    # Take each frame\n",
    "    _, frame = cap.read()\n",
    "\n",
    "    \n",
    "    img_yuv = cv2.cvtColor(frame, cv2.COLOR_BGR2YUV)\n",
    "\n",
    "    # equalize the histogram of the Y channel\n",
    "    img_yuv[:,:,0] = cv2.equalizeHist(img_yuv[:,:,0])\n",
    "\n",
    "    # convert the YUV image back to RGB format\n",
    "    img_output = cv2.cvtColor(img_yuv, cv2.COLOR_YUV2BGR)\n",
    "    \n",
    "    \n",
    "    # Convert to gray scale\n",
    "    gray = cv2.cvtColor(img_output, cv2.COLOR_BGR2GRAY)\n",
    "    \n",
    "    # Binarize \n",
    "    ret, thresh = cv2.threshold(gray, 180, 255, cv2.THRESH_BINARY_INV, cv2.THRESH_BINARY + cv2.THRESH_OTSU)\n",
    "\n",
    "    # Find contours\n",
    "    im2, ctrs, hier = cv2.findContours(thresh.copy(), cv2.RETR_EXTERNAL, cv2.CHAIN_APPROX_SIMPLE)\n",
    "    \n",
    "    # Sort contours\n",
    "    sorted_ctrs = sorted(ctrs, key=lambda ctr: cv2.boundingRect(ctr)[0])\n",
    "    \n",
    "    # Add bounding boxes\n",
    "    n = 0\n",
    "    nChar = np.shape(sorted_ctrs)[0]\n",
    "    for i in range(nChar):\n",
    "        # Draw the bounding box\n",
    "        x, y, w, h = cv2.boundingRect(sorted_ctrs[i])\n",
    "        if (w * h) > 10 and (w * h) < 1000:\n",
    "            im = cv2.rectangle(frame, (x,y),( x + w, y + h ),(0, 255, 0),2)\n",
    "\n",
    "            roi = gray[y:y+h, x:x+w]\n",
    "\n",
    "            #imageio.imwrite('./characters_01_NEW/char_{}.jpg'.format(n), roi)\n",
    "            n += 1\n",
    "\n",
    "    cv2.imshow('frame', im)\n",
    "    cv2.imshow('binary', thresh)\n",
    "    \n",
    "    k = cv2.waitKey(5) & 0xFF\n",
    "    if k == 27:\n",
    "        break\n",
    "\n",
    "cv2.destroyAllWindows()"
   ]
  },
  {
   "cell_type": "code",
   "execution_count": 4,
   "metadata": {},
   "outputs": [],
   "source": [
    "\n",
    "# Turn camera off\n",
    "cap = cv2.VideoCapture(0)"
   ]
  },
  {
   "cell_type": "code",
   "execution_count": null,
   "metadata": {},
   "outputs": [],
   "source": []
  }
 ],
 "metadata": {
  "kernelspec": {
   "display_name": "Python 3",
   "language": "python",
   "name": "python3"
  },
  "language_info": {
   "codemirror_mode": {
    "name": "ipython",
    "version": 3
   },
   "file_extension": ".py",
   "mimetype": "text/x-python",
   "name": "python",
   "nbconvert_exporter": "python",
   "pygments_lexer": "ipython3",
   "version": "3.5.5"
  }
 },
 "nbformat": 4,
 "nbformat_minor": 2
}

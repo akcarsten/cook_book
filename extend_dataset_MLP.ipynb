{
 "cells": [
  {
   "cell_type": "code",
   "execution_count": 1,
   "metadata": {},
   "outputs": [
    {
     "name": "stderr",
     "output_type": "stream",
     "text": [
      "C:\\Users\\Carsten\\Anaconda3\\envs\\openCV3\\lib\\site-packages\\tensorflow\\python\\framework\\dtypes.py:516: FutureWarning: Passing (type, 1) or '1type' as a synonym of type is deprecated; in a future version of numpy, it will be understood as (type, (1,)) / '(1,)type'.\n",
      "  _np_qint8 = np.dtype([(\"qint8\", np.int8, 1)])\n",
      "C:\\Users\\Carsten\\Anaconda3\\envs\\openCV3\\lib\\site-packages\\tensorflow\\python\\framework\\dtypes.py:517: FutureWarning: Passing (type, 1) or '1type' as a synonym of type is deprecated; in a future version of numpy, it will be understood as (type, (1,)) / '(1,)type'.\n",
      "  _np_quint8 = np.dtype([(\"quint8\", np.uint8, 1)])\n",
      "C:\\Users\\Carsten\\Anaconda3\\envs\\openCV3\\lib\\site-packages\\tensorflow\\python\\framework\\dtypes.py:518: FutureWarning: Passing (type, 1) or '1type' as a synonym of type is deprecated; in a future version of numpy, it will be understood as (type, (1,)) / '(1,)type'.\n",
      "  _np_qint16 = np.dtype([(\"qint16\", np.int16, 1)])\n",
      "C:\\Users\\Carsten\\Anaconda3\\envs\\openCV3\\lib\\site-packages\\tensorflow\\python\\framework\\dtypes.py:519: FutureWarning: Passing (type, 1) or '1type' as a synonym of type is deprecated; in a future version of numpy, it will be understood as (type, (1,)) / '(1,)type'.\n",
      "  _np_quint16 = np.dtype([(\"quint16\", np.uint16, 1)])\n",
      "C:\\Users\\Carsten\\Anaconda3\\envs\\openCV3\\lib\\site-packages\\tensorflow\\python\\framework\\dtypes.py:520: FutureWarning: Passing (type, 1) or '1type' as a synonym of type is deprecated; in a future version of numpy, it will be understood as (type, (1,)) / '(1,)type'.\n",
      "  _np_qint32 = np.dtype([(\"qint32\", np.int32, 1)])\n",
      "C:\\Users\\Carsten\\Anaconda3\\envs\\openCV3\\lib\\site-packages\\tensorflow\\python\\framework\\dtypes.py:525: FutureWarning: Passing (type, 1) or '1type' as a synonym of type is deprecated; in a future version of numpy, it will be understood as (type, (1,)) / '(1,)type'.\n",
      "  np_resource = np.dtype([(\"resource\", np.ubyte, 1)])\n",
      "C:\\Users\\Carsten\\Anaconda3\\envs\\openCV3\\lib\\site-packages\\tensorboard\\compat\\tensorflow_stub\\dtypes.py:541: FutureWarning: Passing (type, 1) or '1type' as a synonym of type is deprecated; in a future version of numpy, it will be understood as (type, (1,)) / '(1,)type'.\n",
      "  _np_qint8 = np.dtype([(\"qint8\", np.int8, 1)])\n",
      "C:\\Users\\Carsten\\Anaconda3\\envs\\openCV3\\lib\\site-packages\\tensorboard\\compat\\tensorflow_stub\\dtypes.py:542: FutureWarning: Passing (type, 1) or '1type' as a synonym of type is deprecated; in a future version of numpy, it will be understood as (type, (1,)) / '(1,)type'.\n",
      "  _np_quint8 = np.dtype([(\"quint8\", np.uint8, 1)])\n",
      "C:\\Users\\Carsten\\Anaconda3\\envs\\openCV3\\lib\\site-packages\\tensorboard\\compat\\tensorflow_stub\\dtypes.py:543: FutureWarning: Passing (type, 1) or '1type' as a synonym of type is deprecated; in a future version of numpy, it will be understood as (type, (1,)) / '(1,)type'.\n",
      "  _np_qint16 = np.dtype([(\"qint16\", np.int16, 1)])\n",
      "C:\\Users\\Carsten\\Anaconda3\\envs\\openCV3\\lib\\site-packages\\tensorboard\\compat\\tensorflow_stub\\dtypes.py:544: FutureWarning: Passing (type, 1) or '1type' as a synonym of type is deprecated; in a future version of numpy, it will be understood as (type, (1,)) / '(1,)type'.\n",
      "  _np_quint16 = np.dtype([(\"quint16\", np.uint16, 1)])\n",
      "C:\\Users\\Carsten\\Anaconda3\\envs\\openCV3\\lib\\site-packages\\tensorboard\\compat\\tensorflow_stub\\dtypes.py:545: FutureWarning: Passing (type, 1) or '1type' as a synonym of type is deprecated; in a future version of numpy, it will be understood as (type, (1,)) / '(1,)type'.\n",
      "  _np_qint32 = np.dtype([(\"qint32\", np.int32, 1)])\n",
      "C:\\Users\\Carsten\\Anaconda3\\envs\\openCV3\\lib\\site-packages\\tensorboard\\compat\\tensorflow_stub\\dtypes.py:550: FutureWarning: Passing (type, 1) or '1type' as a synonym of type is deprecated; in a future version of numpy, it will be understood as (type, (1,)) / '(1,)type'.\n",
      "  np_resource = np.dtype([(\"resource\", np.ubyte, 1)])\n"
     ]
    }
   ],
   "source": [
    "from tensorflow.keras.models import model_from_json\n",
    "from convert_data import Idx\n",
    "\n",
    "import cv2\n",
    "import numpy as np\n",
    "import matplotlib.pyplot as plt\n",
    "import scipy.misc\n",
    "import imageio\n",
    "\n",
    "from sklearn.preprocessing import StandardScaler"
   ]
  },
  {
   "cell_type": "code",
   "execution_count": 2,
   "metadata": {},
   "outputs": [
    {
     "name": "stderr",
     "output_type": "stream",
     "text": [
      "WARNING: Logging before flag parsing goes to stderr.\n",
      "W0817 00:26:04.125077 16408 deprecation.py:506] From C:\\Users\\Carsten\\Anaconda3\\envs\\openCV3\\lib\\site-packages\\tensorflow\\python\\ops\\init_ops.py:97: calling GlorotUniform.__init__ (from tensorflow.python.ops.init_ops) with dtype is deprecated and will be removed in a future version.\n",
      "Instructions for updating:\n",
      "Call initializer instance with the dtype argument instead of passing it to the constructor\n",
      "W0817 00:26:04.126074 16408 deprecation.py:506] From C:\\Users\\Carsten\\Anaconda3\\envs\\openCV3\\lib\\site-packages\\tensorflow\\python\\ops\\init_ops.py:1251: calling VarianceScaling.__init__ (from tensorflow.python.ops.init_ops) with dtype is deprecated and will be removed in a future version.\n",
      "Instructions for updating:\n",
      "Call initializer instance with the dtype argument instead of passing it to the constructor\n",
      "W0817 00:26:04.127071 16408 deprecation.py:506] From C:\\Users\\Carsten\\Anaconda3\\envs\\openCV3\\lib\\site-packages\\tensorflow\\python\\ops\\init_ops.py:97: calling Zeros.__init__ (from tensorflow.python.ops.init_ops) with dtype is deprecated and will be removed in a future version.\n",
      "Instructions for updating:\n",
      "Call initializer instance with the dtype argument instead of passing it to the constructor\n"
     ]
    },
    {
     "name": "stdout",
     "output_type": "stream",
     "text": [
      "Model and weights loaded\n"
     ]
    }
   ],
   "source": [
    "model_path = \"./model/model.json\"\n",
    "weights_path = \"./model/model.h5\"\n",
    "\n",
    "# Load the model from file\n",
    "model_file = open(model_path, 'r')\n",
    "model = model_file.read()\n",
    "model = model_from_json(model)\n",
    "model_file.close()\n",
    "\n",
    "# Load the weights from file and add them to the model\n",
    "model.load_weights(weights_path)\n",
    "print(\"Model and weights loaded\")\n",
    "\n",
    "# Compile the model\n",
    "model.compile(loss='sparse_categorical_crossentropy', optimizer='adam', metrics=['accuracy'])"
   ]
  },
  {
   "cell_type": "code",
   "execution_count": 3,
   "metadata": {},
   "outputs": [
    {
     "name": "stdout",
     "output_type": "stream",
     "text": [
      "Magic number: (0, 0, 8, 3)\n",
      "Magic number: (0, 0, 8, 1)\n",
      "4947/4947 [==============================] - 1s 158us/sample - loss: 12.4926 - acc: 0.9826\n",
      "Test accuracy: 0.9826157\n"
     ]
    }
   ],
   "source": [
    "# Read the data \n",
    "dataset_test = './development/dataset_test/'\n",
    "filename = '{}images.idx3-ubyte'.format(dataset_test)\n",
    "test_images = Idx.load_idx(filename)\n",
    "\n",
    "# Read the labels\n",
    "filename = '{}labels.idx3-ubyte'.format(dataset_test)\n",
    "test_labels = Idx.load_labels(filename)\n",
    "\n",
    "test_loss, test_acc = model.evaluate(test_images, test_labels)\n",
    "print('Test accuracy:', test_acc)"
   ]
  },
  {
   "cell_type": "code",
   "execution_count": null,
   "metadata": {},
   "outputs": [],
   "source": []
  },
  {
   "cell_type": "code",
   "execution_count": null,
   "metadata": {},
   "outputs": [],
   "source": []
  },
  {
   "cell_type": "code",
   "execution_count": 4,
   "metadata": {},
   "outputs": [
    {
     "data": {
      "text/plain": [
       "True"
      ]
     },
     "execution_count": 4,
     "metadata": {},
     "output_type": "execute_result"
    }
   ],
   "source": [
    "imageFile = './images/new_images/20190729_225924.jpg' #Characters_01\n",
    "#imageFile = './images/20180628_215027.jpg' #Characters_04\n",
    "\n",
    "conv_size = [80, 80]\n",
    "class_names = ['2', '5', '6', '8', 'a', 'A', 'b', 'B', 'c', 'ch', 'ck', 'd', 'D', \n",
    "               'e', 'E', 'f', 'F', 'g', 'G', 'h', 'i', 'k', 'K', 'l', 'm', 'M', 'n', 'N', 'o', \n",
    "               'p', 'P', 'r', 's', 'S', 't', 'T', 'tz', 'u', 'v', 'w', 'W', 'z', 'Z', 'ß']\n",
    "\n",
    "# Read image\n",
    "imRaw = cv2.imread(imageFile)\n",
    "imCopy = imRaw.copy()\n",
    "\n",
    "gray = cv2.cvtColor(imCopy, cv2.COLOR_BGR2GRAY)\n",
    "\n",
    "th3 = cv2.adaptiveThreshold(gray, 255, cv2.ADAPTIVE_THRESH_GAUSSIAN_C,\\\n",
    "        cv2.THRESH_BINARY, 11, 2)\n",
    "\n",
    "th3 = cv2.medianBlur(th3, 3)\n",
    "\n",
    "# Find contours\n",
    "im2, ctrs, hier = cv2.findContours(th3.copy(), cv2.RETR_TREE, cv2.CHAIN_APPROX_SIMPLE)\n",
    "\n",
    "# Sort contours\n",
    "sorted_ctrs = sorted(ctrs, key=lambda ctr: cv2.boundingRect(ctr)[0])\n",
    "\n",
    "# Add bounding boxes\n",
    "n = 0\n",
    "nChar = np.shape(sorted_ctrs)[0]\n",
    "\n",
    "all_ratios = []\n",
    "for i in range(nChar):\n",
    "    \n",
    "    # Draw the bounding box\n",
    "    x, y, w, h = cv2.boundingRect(sorted_ctrs[i])\n",
    "    ratio = np.min([h, w])/np.max([h, w])\n",
    "    if  (w * h) > 400 and (w * h) < 20000 and ratio < 0.8:\n",
    "        roi = gray[y:y+h, x:x+w]\n",
    "        roi = cv2.resize(roi, (conv_size[0], conv_size[1]))\n",
    "        roi = roi.reshape(1, conv_size[0], conv_size[1])\n",
    "        roi = 255 - roi \n",
    "\n",
    "        prediction = model.predict(roi)\n",
    "        \n",
    "        all_ratios.append(ratio)\n",
    "        \n",
    "        if prediction.max() > 0.9:\n",
    "            char = class_names[prediction.argmax()]\n",
    "\n",
    "            imRaw = cv2.putText(\n",
    "                imRaw, #numpy array on which text is written\n",
    "                char, #text\n",
    "                (x, y), #position at which writing has to start\n",
    "                cv2.FONT_HERSHEY_SIMPLEX, #font family\n",
    "                1, #font size\n",
    "                (209, 80, 0, 255), #font color\n",
    "                5) #font stroke\n",
    "\n",
    "cv2.imwrite('output.png', imRaw)"
   ]
  },
  {
   "cell_type": "code",
   "execution_count": 8,
   "metadata": {
    "scrolled": true
   },
   "outputs": [
    {
     "data": {
      "text/plain": [
       "(array([  5.,   4.,   7.,  13.,  39.,  34.,  48.,  42., 102.,  76.,  75.,\n",
       "         96., 102., 108., 129., 130., 133., 124., 100.,  98.,  75.,  77.,\n",
       "         67.,  59.,  69.,  72.,  90., 118.,  79., 133., 111.,  73.,  99.,\n",
       "         76.,  48.,  48.,  49.,  37.,  44.,  42.,  30.,  57.,  29.,  32.,\n",
       "         44.,  27.,  41.,  16.,  54.,  31.]),\n",
       " array([0.20408163, 0.22      , 0.23591837, 0.25183673, 0.2677551 ,\n",
       "        0.28367347, 0.29959184, 0.3155102 , 0.33142857, 0.34734694,\n",
       "        0.36326531, 0.37918367, 0.39510204, 0.41102041, 0.42693878,\n",
       "        0.44285714, 0.45877551, 0.47469388, 0.49061224, 0.50653061,\n",
       "        0.52244898, 0.53836735, 0.55428571, 0.57020408, 0.58612245,\n",
       "        0.60204082, 0.61795918, 0.63387755, 0.64979592, 0.66571429,\n",
       "        0.68163265, 0.69755102, 0.71346939, 0.72938776, 0.74530612,\n",
       "        0.76122449, 0.77714286, 0.79306122, 0.80897959, 0.82489796,\n",
       "        0.84081633, 0.85673469, 0.87265306, 0.88857143, 0.9044898 ,\n",
       "        0.92040816, 0.93632653, 0.9522449 , 0.96816327, 0.98408163,\n",
       "        1.        ]),\n",
       " <a list of 50 Patch objects>)"
      ]
     },
     "execution_count": 8,
     "metadata": {},
     "output_type": "execute_result"
    },
    {
     "data": {
      "image/png": "[encoded data removed]",
      "text/plain": [
       "<Figure size 432x288 with 1 Axes>"
      ]
     },
     "metadata": {},
     "output_type": "display_data"
    }
   ],
   "source": [
    "plt.hist(all_ratios, 50)"
   ]
  },
  {
   "cell_type": "code",
   "execution_count": 20,
   "metadata": {},
   "outputs": [
    {
     "data": {
      "text/plain": [
       "1"
      ]
     },
     "execution_count": 20,
     "metadata": {},
     "output_type": "execute_result"
    }
   ],
   "source": [
    "h"
   ]
  },
  {
   "cell_type": "code",
   "execution_count": 7,
   "metadata": {},
   "outputs": [],
   "source": [
    "# Turn camera on\n",
    "cap = cv2.VideoCapture(0)"
   ]
  },
  {
   "cell_type": "code",
   "execution_count": 6,
   "metadata": {},
   "outputs": [],
   "source": [
    "conv_size = [80, 80]\n",
    "class_names = ['2', '5', '6', '8', 'a', 'A', 'b', 'B', 'c', 'ch', 'ck', 'd', 'D', \n",
    "               'e', 'E', 'f', 'F', 'g', 'G', 'h', 'i', 'k', 'K', 'l', 'm', 'M', 'n', 'N', 'o', \n",
    "               'p', 'P', 'r', 's', 'S', 't', 'T', 'tz', 'u', 'v', 'w', 'W', 'z', 'Z', 'ß']\n",
    "while(1):\n",
    "    # Take each frame\n",
    "    _, frame = cap.read()\n",
    "\n",
    "    gray = cv2.cvtColor(frame, cv2.COLOR_BGR2GRAY)\n",
    "\n",
    "    th3 = cv2.adaptiveThreshold(gray, 255, cv2.ADAPTIVE_THRESH_GAUSSIAN_C,\\\n",
    "            cv2.THRESH_BINARY, 11, 4)\n",
    "    \n",
    "    th3 = cv2.medianBlur(th3, 3)\n",
    "    \n",
    "    # Find contours\n",
    "    im2, ctrs, hier = cv2.findContours(th3.copy(),cv2.RETR_TREE,cv2.CHAIN_APPROX_SIMPLE)\n",
    "    \n",
    "    # Sort contours\n",
    "    sorted_ctrs = sorted(ctrs, key=lambda ctr: cv2.boundingRect(ctr)[0])\n",
    "    \n",
    "    # Add bounding boxes\n",
    "    n = 0\n",
    "    nChar = np.shape(sorted_ctrs)[0]\n",
    "    for i in range(nChar):\n",
    "        # Draw the bounding box\n",
    "        x, y, w, h = cv2.boundingRect(sorted_ctrs[i])\n",
    "        if (w * h) > 300 and (w * h) < 20000:\n",
    "            \n",
    "            roi = gray[y:y+h, x:x+w]\n",
    "            roi = cv2.resize(roi, (conv_size[0], conv_size[1]))\n",
    "            roi = roi.reshape(1, conv_size[0], conv_size[1])\n",
    "            roi = 255 - roi \n",
    "            \n",
    "            prediction = model.predict(roi)\n",
    "        \n",
    "            if prediction.max() > 0.9:\n",
    "                char = class_names[prediction.argmax()]\n",
    "\n",
    "                im = cv2.putText(\n",
    "                    frame, #numpy array on which text is written\n",
    "                    char, #text\n",
    "                    (x, y), #position at which writing has to start\n",
    "                    cv2.FONT_HERSHEY_SIMPLEX, #font family\n",
    "                    0.5, #font size\n",
    "                    (209, 80, 0, 255), #font color\n",
    "                    2) #font stroke\n",
    "\n",
    "            n += 1\n",
    "    \n",
    "    try:\n",
    "        cv2.imshow('frame', frame)\n",
    "        cv2.imshow('binary', th3)\n",
    "    except:\n",
    "        cv2.imshow('frame', th3)\n",
    "    \n",
    "    k = cv2.waitKey(5) & 0xFF\n",
    "    if k == 27:\n",
    "        break\n",
    "\n",
    "cv2.destroyAllWindows()\n"
   ]
  },
  {
   "cell_type": "code",
   "execution_count": null,
   "metadata": {},
   "outputs": [],
   "source": []
  },
  {
   "cell_type": "code",
   "execution_count": null,
   "metadata": {},
   "outputs": [],
   "source": []
  },
  {
   "cell_type": "code",
   "execution_count": null,
   "metadata": {},
   "outputs": [],
   "source": []
  },
  {
   "cell_type": "code",
   "execution_count": null,
   "metadata": {},
   "outputs": [],
   "source": []
  },
  {
   "cell_type": "code",
   "execution_count": null,
   "metadata": {},
   "outputs": [],
   "source": []
  }
 ],
 "metadata": {
  "kernelspec": {
   "display_name": "Python 3",
   "language": "python",
   "name": "python3"
  },
  "language_info": {
   "codemirror_mode": {
    "name": "ipython",
    "version": 3
   },
   "file_extension": ".py",
   "mimetype": "text/x-python",
   "name": "python",
   "nbconvert_exporter": "python",
   "pygments_lexer": "ipython3",
   "version": "3.5.5"
  }
 },
 "nbformat": 4,
 "nbformat_minor": 2
}

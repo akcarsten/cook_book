{
 "cells": [
  {
   "cell_type": "code",
   "execution_count": 2,
   "metadata": {},
   "outputs": [],
   "source": [
    "from tensorflow.keras.models import model_from_json\n",
    "from convert_data import Idx\n",
    "\n",
    "import cv2\n",
    "import numpy as np\n",
    "import matplotlib.pyplot as plt\n",
    "import scipy.misc\n",
    "import imageio\n",
    "\n",
    "from sklearn.preprocessing import StandardScaler"
   ]
  },
  {
   "cell_type": "code",
   "execution_count": 4,
   "metadata": {},
   "outputs": [
    {
     "name": "stdout",
     "output_type": "stream",
     "text": [
      "Model and weights loaded\n"
     ]
    }
   ],
   "source": [
    "model_path = \"./model/model.json\"\n",
    "weights_path = \"./model/model.h5\"\n",
    "\n",
    "# Load the model from file\n",
    "model_file = open(model_path, 'r')\n",
    "model = model_file.read()\n",
    "model = model_from_json(model)\n",
    "model_file.close()\n",
    "\n",
    "# Load the weights from file and add them to the model\n",
    "model.load_weights(weights_path)\n",
    "print(\"Model and weights loaded\")\n",
    "\n",
    "# Compile the model\n",
    "model.compile(loss='sparse_categorical_crossentropy', optimizer='adam', metrics=['accuracy'])"
   ]
  },
  {
   "cell_type": "code",
   "execution_count": null,
   "metadata": {},
   "outputs": [],
   "source": []
  },
  {
   "cell_type": "code",
   "execution_count": 5,
   "metadata": {},
   "outputs": [],
   "source": [
    "def convert_image(img, blur=3):\n",
    "    # Convert to grayscale\n",
    "    conv_img = cv2.cvtColor(img, cv2.COLOR_BGR2GRAY)\n",
    "\n",
    "    # Adaptive thresholding to binarize the image\n",
    "    conv_img = cv2.adaptiveThreshold(conv_img, 255, cv2.ADAPTIVE_THRESH_GAUSSIAN_C, cv2.THRESH_BINARY, 11, 4)\n",
    "\n",
    "    # Blur the image to reduce noise\n",
    "    conv_img = cv2.medianBlur(conv_img, blur)\n",
    "    \n",
    "    return conv_img"
   ]
  },
  {
   "cell_type": "code",
   "execution_count": 6,
   "metadata": {},
   "outputs": [],
   "source": [
    "def extract_char(conv_img):\n",
    "    # Find contours\n",
    "    _, ctrs, _ = cv2.findContours(conv_img, cv2.RETR_TREE, cv2.CHAIN_APPROX_SIMPLE)\n",
    "\n",
    "    # Sort contours\n",
    "    return ctrs"
   ]
  },
  {
   "cell_type": "code",
   "execution_count": 9,
   "metadata": {},
   "outputs": [],
   "source": [
    "# Turn camera on\n",
    "cap = cv2.VideoCapture(0)"
   ]
  },
  {
   "cell_type": "code",
   "execution_count": 8,
   "metadata": {},
   "outputs": [],
   "source": [
    "conv_size = [80, 80]\n",
    "class_names = ['2', '5', '6', '8', 'a', 'A', 'b', 'B', 'c', 'ch', 'ck', 'd', 'D', \n",
    "               'e', 'E', 'f', 'F', 'g', 'G', 'h', 'i', 'k', 'K', 'l', 'm', 'M', 'n', 'N', 'o', \n",
    "               'p', 'P', 'r', 's', 'S', 't', 'T', 'tz', 'u', 'v', 'w', 'W', 'z', 'Z', 'ß']\n",
    "while(1):\n",
    "    # Take each frame\n",
    "    _, frame = cap.read()\n",
    "\n",
    "    gray = cv2.cvtColor(frame, cv2.COLOR_BGR2GRAY)\n",
    "    \n",
    "    conv_img = convert_image(frame, blur=3)\n",
    "    \n",
    "    sorted_ctrs =extract_char(conv_img)\n",
    "        \n",
    "    # Add bounding boxes\n",
    "    n = 0\n",
    "    nChar = np.shape(sorted_ctrs)[0]\n",
    "    for i in range(nChar):\n",
    "        # Draw the bounding box\n",
    "        x, y, w, h = cv2.boundingRect(sorted_ctrs[i])\n",
    "        if (w * h) > 600 and (w * h) < 20000:\n",
    "            \n",
    "            roi = gray[y:y+h, x:x+w]\n",
    "            roi = cv2.resize(roi, (conv_size[0], conv_size[1]))\n",
    "            roi = roi.reshape(1, conv_size[0], conv_size[1])\n",
    "            roi = 255 - roi \n",
    "            \n",
    "            prediction = model.predict(roi)\n",
    "        \n",
    "            if prediction.max() > 0.9:\n",
    "                char = class_names[prediction.argmax()]\n",
    "\n",
    "                im = cv2.putText(\n",
    "                    frame, #numpy array on which text is written\n",
    "                    char, #text\n",
    "                    (x, y), #position at which writing has to start\n",
    "                    cv2.FONT_HERSHEY_SIMPLEX, #font family\n",
    "                    0.5, #font size\n",
    "                    (209, 80, 0, 255), #font color\n",
    "                    2) #font stroke\n",
    "\n",
    "            n += 1\n",
    "    \n",
    "    cv2.imshow('frame', frame)\n",
    "    \n",
    "    k = cv2.waitKey(5) & 0xFF\n",
    "    if k == 27:\n",
    "        break\n",
    "\n",
    "cv2.destroyAllWindows()"
   ]
  },
  {
   "cell_type": "code",
   "execution_count": null,
   "metadata": {},
   "outputs": [],
   "source": []
  }
 ],
 "metadata": {
  "kernelspec": {
   "display_name": "Python 3",
   "language": "python",
   "name": "python3"
  },
  "language_info": {
   "codemirror_mode": {
    "name": "ipython",
    "version": 3
   },
   "file_extension": ".py",
   "mimetype": "text/x-python",
   "name": "python",
   "nbconvert_exporter": "python",
   "pygments_lexer": "ipython3",
   "version": "3.5.5"
  }
 },
 "nbformat": 4,
 "nbformat_minor": 2
}

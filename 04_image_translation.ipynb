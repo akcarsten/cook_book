{
 "cells": [
  {
   "cell_type": "code",
   "execution_count": 1,
   "metadata": {},
   "outputs": [
    {
     "name": "stderr",
     "output_type": "stream",
     "text": [
      "C:\\Users\\Carsten\\Anaconda3\\envs\\openCV3\\lib\\site-packages\\tensorflow\\python\\framework\\dtypes.py:516: FutureWarning: Passing (type, 1) or '1type' as a synonym of type is deprecated; in a future version of numpy, it will be understood as (type, (1,)) / '(1,)type'.\n",
      "  _np_qint8 = np.dtype([(\"qint8\", np.int8, 1)])\n",
      "C:\\Users\\Carsten\\Anaconda3\\envs\\openCV3\\lib\\site-packages\\tensorflow\\python\\framework\\dtypes.py:517: FutureWarning: Passing (type, 1) or '1type' as a synonym of type is deprecated; in a future version of numpy, it will be understood as (type, (1,)) / '(1,)type'.\n",
      "  _np_quint8 = np.dtype([(\"quint8\", np.uint8, 1)])\n",
      "C:\\Users\\Carsten\\Anaconda3\\envs\\openCV3\\lib\\site-packages\\tensorflow\\python\\framework\\dtypes.py:518: FutureWarning: Passing (type, 1) or '1type' as a synonym of type is deprecated; in a future version of numpy, it will be understood as (type, (1,)) / '(1,)type'.\n",
      "  _np_qint16 = np.dtype([(\"qint16\", np.int16, 1)])\n",
      "C:\\Users\\Carsten\\Anaconda3\\envs\\openCV3\\lib\\site-packages\\tensorflow\\python\\framework\\dtypes.py:519: FutureWarning: Passing (type, 1) or '1type' as a synonym of type is deprecated; in a future version of numpy, it will be understood as (type, (1,)) / '(1,)type'.\n",
      "  _np_quint16 = np.dtype([(\"quint16\", np.uint16, 1)])\n",
      "C:\\Users\\Carsten\\Anaconda3\\envs\\openCV3\\lib\\site-packages\\tensorflow\\python\\framework\\dtypes.py:520: FutureWarning: Passing (type, 1) or '1type' as a synonym of type is deprecated; in a future version of numpy, it will be understood as (type, (1,)) / '(1,)type'.\n",
      "  _np_qint32 = np.dtype([(\"qint32\", np.int32, 1)])\n",
      "C:\\Users\\Carsten\\Anaconda3\\envs\\openCV3\\lib\\site-packages\\tensorflow\\python\\framework\\dtypes.py:525: FutureWarning: Passing (type, 1) or '1type' as a synonym of type is deprecated; in a future version of numpy, it will be understood as (type, (1,)) / '(1,)type'.\n",
      "  np_resource = np.dtype([(\"resource\", np.ubyte, 1)])\n",
      "C:\\Users\\Carsten\\Anaconda3\\envs\\openCV3\\lib\\site-packages\\tensorboard\\compat\\tensorflow_stub\\dtypes.py:541: FutureWarning: Passing (type, 1) or '1type' as a synonym of type is deprecated; in a future version of numpy, it will be understood as (type, (1,)) / '(1,)type'.\n",
      "  _np_qint8 = np.dtype([(\"qint8\", np.int8, 1)])\n",
      "C:\\Users\\Carsten\\Anaconda3\\envs\\openCV3\\lib\\site-packages\\tensorboard\\compat\\tensorflow_stub\\dtypes.py:542: FutureWarning: Passing (type, 1) or '1type' as a synonym of type is deprecated; in a future version of numpy, it will be understood as (type, (1,)) / '(1,)type'.\n",
      "  _np_quint8 = np.dtype([(\"quint8\", np.uint8, 1)])\n",
      "C:\\Users\\Carsten\\Anaconda3\\envs\\openCV3\\lib\\site-packages\\tensorboard\\compat\\tensorflow_stub\\dtypes.py:543: FutureWarning: Passing (type, 1) or '1type' as a synonym of type is deprecated; in a future version of numpy, it will be understood as (type, (1,)) / '(1,)type'.\n",
      "  _np_qint16 = np.dtype([(\"qint16\", np.int16, 1)])\n",
      "C:\\Users\\Carsten\\Anaconda3\\envs\\openCV3\\lib\\site-packages\\tensorboard\\compat\\tensorflow_stub\\dtypes.py:544: FutureWarning: Passing (type, 1) or '1type' as a synonym of type is deprecated; in a future version of numpy, it will be understood as (type, (1,)) / '(1,)type'.\n",
      "  _np_quint16 = np.dtype([(\"quint16\", np.uint16, 1)])\n",
      "C:\\Users\\Carsten\\Anaconda3\\envs\\openCV3\\lib\\site-packages\\tensorboard\\compat\\tensorflow_stub\\dtypes.py:545: FutureWarning: Passing (type, 1) or '1type' as a synonym of type is deprecated; in a future version of numpy, it will be understood as (type, (1,)) / '(1,)type'.\n",
      "  _np_qint32 = np.dtype([(\"qint32\", np.int32, 1)])\n",
      "C:\\Users\\Carsten\\Anaconda3\\envs\\openCV3\\lib\\site-packages\\tensorboard\\compat\\tensorflow_stub\\dtypes.py:550: FutureWarning: Passing (type, 1) or '1type' as a synonym of type is deprecated; in a future version of numpy, it will be understood as (type, (1,)) / '(1,)type'.\n",
      "  np_resource = np.dtype([(\"resource\", np.ubyte, 1)])\n"
     ]
    }
   ],
   "source": [
    "from tensorflow.keras.models import model_from_json\n",
    "from convert_data import Idx\n",
    "\n",
    "import os\n",
    "import cv2\n",
    "import numpy as np\n",
    "import matplotlib.pyplot as plt\n",
    "import scipy.misc\n",
    "import imageio\n",
    "\n",
    "from sklearn.preprocessing import StandardScaler"
   ]
  },
  {
   "cell_type": "code",
   "execution_count": 2,
   "metadata": {},
   "outputs": [
    {
     "name": "stderr",
     "output_type": "stream",
     "text": [
      "WARNING: Logging before flag parsing goes to stderr.\n",
      "W0826 23:41:48.221826 18732 deprecation.py:506] From C:\\Users\\Carsten\\Anaconda3\\envs\\openCV3\\lib\\site-packages\\tensorflow\\python\\ops\\init_ops.py:97: calling GlorotUniform.__init__ (from tensorflow.python.ops.init_ops) with dtype is deprecated and will be removed in a future version.\n",
      "Instructions for updating:\n",
      "Call initializer instance with the dtype argument instead of passing it to the constructor\n",
      "W0826 23:41:48.222825 18732 deprecation.py:506] From C:\\Users\\Carsten\\Anaconda3\\envs\\openCV3\\lib\\site-packages\\tensorflow\\python\\ops\\init_ops.py:1251: calling VarianceScaling.__init__ (from tensorflow.python.ops.init_ops) with dtype is deprecated and will be removed in a future version.\n",
      "Instructions for updating:\n",
      "Call initializer instance with the dtype argument instead of passing it to the constructor\n",
      "W0826 23:41:48.223820 18732 deprecation.py:506] From C:\\Users\\Carsten\\Anaconda3\\envs\\openCV3\\lib\\site-packages\\tensorflow\\python\\ops\\init_ops.py:97: calling Zeros.__init__ (from tensorflow.python.ops.init_ops) with dtype is deprecated and will be removed in a future version.\n",
      "Instructions for updating:\n",
      "Call initializer instance with the dtype argument instead of passing it to the constructor\n"
     ]
    },
    {
     "name": "stdout",
     "output_type": "stream",
     "text": [
      "Model and weights loaded\n"
     ]
    }
   ],
   "source": [
    "model_path = \"./model/model.json\"\n",
    "weights_path = \"./model/model.h5\"\n",
    "\n",
    "# Load the model from file\n",
    "model_file = open(model_path, 'r')\n",
    "model = model_file.read()\n",
    "model = model_from_json(model)\n",
    "model_file.close()\n",
    "\n",
    "# Load the weights from file and add them to the model\n",
    "model.load_weights(weights_path)\n",
    "print(\"Model and weights loaded\")\n",
    "\n",
    "# Compile the model\n",
    "model.compile(loss='sparse_categorical_crossentropy', optimizer='adam', metrics=['accuracy'])"
   ]
  },
  {
   "cell_type": "code",
   "execution_count": 3,
   "metadata": {},
   "outputs": [
    {
     "name": "stdout",
     "output_type": "stream",
     "text": [
      "ConvNet model and weights loaded\n"
     ]
    }
   ],
   "source": [
    "model_path = \"./model/model_conv.json\"\n",
    "weights_path = \"./model/model_conv.h5\"\n",
    "\n",
    "# Load the model from file\n",
    "model_conv_file = open(model_path, 'r')\n",
    "model_conv = model_conv_file.read()\n",
    "model_conv = model_from_json(model_conv)\n",
    "model_conv_file.close()\n",
    "\n",
    "# Load the weights from file and add them to the model\n",
    "model_conv.load_weights(weights_path)\n",
    "print(\"ConvNet model and weights loaded\")\n",
    "\n",
    "# Compile the model\n",
    "model_conv.compile(loss='sparse_categorical_crossentropy', optimizer='adam', metrics=['accuracy'])"
   ]
  },
  {
   "cell_type": "code",
   "execution_count": 4,
   "metadata": {},
   "outputs": [],
   "source": [
    "def convert_image(img, blur=3):\n",
    "    # Convert to grayscale\n",
    "    conv_img = cv2.cvtColor(img, cv2.COLOR_BGR2GRAY)\n",
    "\n",
    "    # Adaptive thresholding to binarize the image\n",
    "    conv_img = cv2.adaptiveThreshold(conv_img, 255, cv2.ADAPTIVE_THRESH_GAUSSIAN_C, cv2.THRESH_BINARY, 11, 4)\n",
    "\n",
    "    # Blur the image to reduce noise\n",
    "    conv_img = cv2.medianBlur(conv_img, blur)\n",
    "    \n",
    "    return conv_img"
   ]
  },
  {
   "cell_type": "code",
   "execution_count": 5,
   "metadata": {},
   "outputs": [],
   "source": [
    "def extract_char(conv_img):\n",
    "    # Find contours\n",
    "    _, ctrs, _ = cv2.findContours(conv_img, cv2.RETR_TREE, cv2.CHAIN_APPROX_SIMPLE)\n",
    "\n",
    "    # Sort contours\n",
    "    return sorted(ctrs, key=lambda ctr: cv2.boundingRect(ctr)[0])"
   ]
  },
  {
   "cell_type": "code",
   "execution_count": 12,
   "metadata": {},
   "outputs": [],
   "source": [
    "def save_result(sorted_ctrs, img, model, class_names, lower=800, upper=20000, path='./results'):\n",
    "    \n",
    "    conv_size = [80, 80]\n",
    "    \n",
    "    # Create the target folder for saving the extracted images\n",
    "    if not os.path.isdir(path):\n",
    "        os.mkdir(path)\n",
    "    \n",
    "    # Convert original image to gray scale\n",
    "    gray = cv2.cvtColor(img, cv2.COLOR_BGR2GRAY)\n",
    "        \n",
    "    # Number of potential characters found in the image\n",
    "    n_char = np.shape(sorted_ctrs)[0]\n",
    "    \n",
    "    # Go through each potential character\n",
    "    for i in range(n_char):\n",
    "        \n",
    "        # Get coordinates of the potential character\n",
    "        x, y, w, h = cv2.boundingRect(sorted_ctrs[i])\n",
    "        \n",
    "        # Test if the number of pixels in the bounding box is reasonable\n",
    "        if (w * h) > lower and (w * h) < upper:\n",
    "            \n",
    "            # Extract the character and save it as a .jpeg\n",
    "            roi = gray[y:y+h, x:x+w]\n",
    "            roi = cv2.resize(roi, (conv_size[0], conv_size[1]))\n",
    "            roi = roi.reshape(1, conv_size[0], conv_size[1])\n",
    "            roi = 255 - roi \n",
    "\n",
    "            if len(model.input.shape.dims) == 4:\n",
    "                roi = roi.reshape(1, conv_size[0], conv_size[1], 1)\n",
    "            \n",
    "            prediction = model.predict(roi)\n",
    "\n",
    "            #all_ratios.append(ratio)\n",
    "\n",
    "            if prediction.max() > 0.8:\n",
    "                char = class_names[prediction.argmax()]\n",
    "\n",
    "                img = cv2.putText(\n",
    "                    img, #numpy array on which text is written\n",
    "                    char, #text\n",
    "                    (x, y), #position at which writing has to start\n",
    "                    cv2.FONT_HERSHEY_SIMPLEX, #font family\n",
    "                    1, #font size\n",
    "                    (209, 80, 0, 255), #font color\n",
    "                    5) #font stroke\n",
    "            \n",
    "    \n",
    "    # Return image with all bounding boxes\n",
    "    cv2.imwrite(path + '/output_conv.png', img)"
   ]
  },
  {
   "cell_type": "code",
   "execution_count": 15,
   "metadata": {},
   "outputs": [],
   "source": [
    "# List of all images to create the first training data \n",
    "image_files = ['./images/07.jpg']\n",
    "\n",
    "class_names = ['2', '5', '6', '8', 'a', 'A', 'b', 'B', 'c', 'ch', 'ck', 'd', 'D', \n",
    "               'e', 'E', 'f', 'F', 'g', 'G', 'h', 'i', 'k', 'K', 'l', 'm', 'M', 'n', 'N', 'o', \n",
    "               'p', 'P', 'r', 's', 'S', 't', 'T', 'tz', 'u', 'v', 'w', 'W', 'z', 'Z', 'ß']\n",
    "\n",
    "# Go through all files and extract the characters\n",
    "for file in image_files:\n",
    "\n",
    "    # Read image\n",
    "    img = cv2.imread(file)\n",
    "\n",
    "    # Convert the image (gray/thresholded/blured)\n",
    "    conv_img = convert_image(img)\n",
    "\n",
    "    # Find and sort the contours\n",
    "    sorted_ctrs = extract_char(conv_img)\n",
    "\n",
    "    # Save the result\n",
    "    result = save_result(sorted_ctrs, img, model, class_names)\n",
    "    \n",
    "    result = save_result(sorted_ctrs, img, model_conv, class_names)\n",
    "    "
   ]
  },
  {
   "cell_type": "code",
   "execution_count": 18,
   "metadata": {},
   "outputs": [
    {
     "data": {
      "text/plain": [
       "1.0141527001862196"
      ]
     },
     "execution_count": 18,
     "metadata": {},
     "output_type": "execute_result"
    }
   ],
   "source": [
    "0.2723/0.2685"
   ]
  },
  {
   "cell_type": "code",
   "execution_count": null,
   "metadata": {},
   "outputs": [],
   "source": []
  }
 ],
 "metadata": {
  "kernelspec": {
   "display_name": "Python 3",
   "language": "python",
   "name": "python3"
  },
  "language_info": {
   "codemirror_mode": {
    "name": "ipython",
    "version": 3
   },
   "file_extension": ".py",
   "mimetype": "text/x-python",
   "name": "python",
   "nbconvert_exporter": "python",
   "pygments_lexer": "ipython3",
   "version": "3.5.5"
  }
 },
 "nbformat": 4,
 "nbformat_minor": 2
}
